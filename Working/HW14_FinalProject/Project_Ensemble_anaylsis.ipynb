{
 "cells": [
  {
   "cell_type": "markdown",
   "metadata": {},
   "source": [
    "# Ensemble Analysis\n",
    "\n",
    "This notebook reads in and formats outputs from ensemble simulations so that you can evaluate and plot"
   ]
  },
  {
   "cell_type": "markdown",
   "metadata": {},
   "source": [
    "### Import packages"
   ]
  },
  {
   "cell_type": "code",
   "execution_count": 79,
   "metadata": {},
   "outputs": [],
   "source": [
    "#import packages\n",
    "import flopy\n",
    "import numpy as np\n",
    "import matplotlib.pyplot as plt\n",
    "import matplotlib as mp\n",
    "import pandas as pd\n",
    "import numpy as np\n",
    "import os\n",
    "\n",
    "\n",
    "#additional analysis tools\n",
    "import flopy.utils.binaryfile as bf\n",
    "from mpl_toolkits.mplot3d import Axes3D\n",
    "from matplotlib import cm\n",
    "from matplotlib.ticker import LinearLocator, FormatStrFormatter\n",
    "\n",
    "\n",
    "np.set_printoptions(threshold=np.inf)\n",
    "\n",
    "#jupyter specific--included to show plots in notebook\n",
    "%matplotlib inline "
   ]
  },
  {
   "cell_type": "markdown",
   "metadata": {},
   "source": [
    "# Setup static variables"
   ]
  },
  {
   "cell_type": "code",
   "execution_count": 80,
   "metadata": {},
   "outputs": [
    {
     "name": "stdout",
     "output_type": "stream",
     "text": [
      "2 Ensembles to evaluate\n"
     ]
    }
   ],
   "source": [
    "nrow = 50 #number of rows\n",
    "ncol = 50 #number of columns\n",
    "nlay = 3  #number of layers\n",
    "dx= 1000 #width of grid cells in x direction \n",
    "dy= 1000 #width of grid cells in y direction \n",
    "Lx = ncol*dx  #width of domain in x\n",
    "Ly = nrow*dy #width of domain in y\n",
    "\n",
    "with open('BASE_top_elev.csv', 'r', encoding='utf-8-sig') as reader: \n",
    "    ztop = np.genfromtxt(reader, dtype=float, delimiter=',') # elevation of top layer (import from csv file) (dim: nrow,ncol)\n",
    "\n",
    "ensembles = [[2,2,2,2,2,2,2], [1,1,2,2,2,2,1]]\n",
    "\n",
    "# Full ensembles list\n",
    "# ensembles = [[1,1,2,2,2,2,1],\n",
    "# [2,2,2,3,1,1,2], \n",
    "# [2,2,2,2,2,2,1],\n",
    "# [2,2,2,2,2,2,3],\n",
    "# [1,1,3,3,2,2,1],\n",
    "# [3,3,1,1,2,2,3],\n",
    "# [3,3,2,2,2,2,3],\n",
    "# [2,2,2,1,2,2,2],\n",
    "# [2,2,2,2,3,2,2],\n",
    "# [2,2,2,2,2,3,2]]\n",
    "\n",
    "n_ens = len(ensembles)\n",
    "print(n_ens, 'Ensembles to evaluate')\n"
   ]
  },
  {
   "cell_type": "markdown",
   "metadata": {},
   "source": [
    "## Read in the heads and create timeseries at points"
   ]
  },
  {
   "cell_type": "code",
   "execution_count": 81,
   "metadata": {},
   "outputs": [],
   "source": [
    "#setup well locations and observation points\n",
    "#town well\n",
    "well_loc = (0,21, 38) #town well \n",
    "welli_loc = (0,12, 14) #ag irrigation well\n",
    "farm_cell_loc = (0, 21, 19) # Bottom right corner of the ag field\n",
    "wello_loc = (0, 15, 15)  # Extra well if you need it\n",
    "\n",
    "#setup timeseries\n",
    "head_ts = []  # timeseris of head at town well\n",
    "farm_mid_ts = []  # timeseries of bottom corner of farm\n",
    "ag_head_ts = []  # timeseries of head at agg well\n",
    "mw1_head_ts = []  # timeseries of head at observation well\n",
    "\n",
    "# Loop through the ensembles and read the data\n",
    "root_name = 'baseline_' #root of the run names\n",
    "for i in range(len(ensembles)):\n",
    "    name = root_name  #Create the file name from list \n",
    "    for k in range(len(ensembles[i])):\n",
    "        string = str(ensembles[i][k])\n",
    "        name = name + string   \n",
    "\n",
    "    #read in the head and water budget files\n",
    "    headobj = flopy.utils.binaryfile.HeadFile(name+'.hds')\n",
    "   \n",
    "    #Extract out time series of heads at points of interest\n",
    "    head_ts.append(np.mean(headobj.get_ts(well_loc)))\n",
    "    farm_mid_ts.append(np.mean(headobj.get_ts(farm_cell_loc)))\n",
    "    mw1_head_ts.append(np.mean(headobj.get_ts(wello_loc)))\n",
    "    ag_head_ts.append(np.mean(headobj.get_ts(welli_loc)))\n",
    "    times = headobj.get_times()\n",
    "    #print(budgobj.get_unique_record_names())\n"
   ]
  },
  {
   "cell_type": "markdown",
   "metadata": {},
   "source": [
    "#### Metric 1: Head gradient between Farm and Town Well"
   ]
  },
  {
   "cell_type": "code",
   "execution_count": 82,
   "metadata": {},
   "outputs": [
    {
     "name": "stdout",
     "output_type": "stream",
     "text": [
      "Head Difference (from farm corner) =  1.591587e-04\n",
      "Head Difference (from ag well)=  2.171612e-04\n"
     ]
    }
   ],
   "source": [
    "head_dist = 25600\n",
    "\n",
    "head_change = ((farm_mid_ts-head_ts)/head_dist)\n",
    "scientific_notation=\"{:e}\".format(head_change)\n",
    "\n",
    "print(\"Head Difference (from farm corner) = \", scientific_notation)\n"
   ]
  },
  {
   "cell_type": "markdown",
   "metadata": {},
   "source": [
    "## Store complete gridded outputs as arrays"
   ]
  },
  {
   "cell_type": "code",
   "execution_count": 83,
   "metadata": {},
   "outputs": [],
   "source": [
    "#setup arrays to store the values\n",
    "head_array = np.zeros((len(ensembles), len(times), nlay, ncol, nrow))\n",
    "frf_array = np.zeros((len(ensembles), len(times), nlay, ncol, nrow))\n",
    "fff_array = np.zeros((len(ensembles), len(times), nlay, ncol, nrow))\n",
    "recharge_array = np.zeros((len(ensembles), len(times), 1, ncol, nrow))\n",
    "et_array = np.zeros((len(ensembles), len(times), 1, ncol, nrow))\n",
    "stor_array = np.zeros((len(ensembles), len(times), 1, ncol, nrow))\n",
    "\n",
    "# Loop through the ensembles and read the data\n",
    "root_name = 'baseline_' #root of the run names\n",
    "for i in range(len(ensembles)):\n",
    "    name = root_name  #Create the file name from list \n",
    "    for k in range(len(ensembles[i])):\n",
    "        string = str(ensembles[i][k])\n",
    "        name = name + string   \n",
    "\n",
    "    #read in the head and water budget files\n",
    "    headobj = flopy.utils.binaryfile.HeadFile(name+'.hds')\n",
    "    budgobj = flopy.utils.binaryfile.CellBudgetFile(name+'.cbc')   \n",
    "\n",
    "    rowcounter = -1\n",
    "    for t in times:\n",
    "        rowcounter += 1\n",
    "        head_array[i, rowcounter,:, :, :] = headobj.get_data(totim=t)\n",
    "        \n",
    "        tempfrf = np.squeeze(budgobj.get_data(text='flow right face', totim=t))\n",
    "        frf_array[i, rowcounter,:, :, :] = tempfrf\n",
    "        \n",
    "        tempfff = np.squeeze(budgobj.get_data(text='FLOW FRONT FACE', totim=t))\n",
    "        fff_array[i, rowcounter,:, :, :] = tempfff\n",
    "\n",
    "        temprch = np.squeeze(budgobj.get_data(text='RECHARGE', totim=t))\n",
    "        recharge_array[i, rowcounter, :, :, :] = temprch[1]\n",
    "\n",
    "        tempet = np.squeeze(budgobj.get_data(text='ET', totim=t))\n",
    "        et_array[i, rowcounter, :, :, :] = tempet[1]\n"
   ]
  },
  {
   "cell_type": "markdown",
   "metadata": {},
   "source": [
    "#### Metric 2: Depth to water table"
   ]
  },
  {
   "cell_type": "code",
   "execution_count": 84,
   "metadata": {},
   "outputs": [
    {
     "name": "stdout",
     "output_type": "stream",
     "text": [
      "[-236.4523  -236.22614]\n"
     ]
    }
   ],
   "source": [
    "WTD = ztop[21,38] - head_ts\n",
    "\n",
    "print(WTD)\n",
    "\n",
    "# print(np.ndim(ztop))"
   ]
  },
  {
   "cell_type": "markdown",
   "metadata": {},
   "source": [
    "#### Metric 3: Total Riparian ET"
   ]
  },
  {
   "cell_type": "code",
   "execution_count": 85,
   "metadata": {},
   "outputs": [],
   "source": [
    "# Create ET variables\n",
    "et_vals = np.squeeze(et_array)[1,:,:] #This is a matrix of the ET fluxes [m3/day]\n",
    "rip_ET = et_vals[21:28, :]    # this is a matrix of just the ET fluxes in the riparian area\n",
    "tot_rip= np.sum(rip_ET)        # Sum of all the riparian fluxes (m3/day)\n",
    "\n",
    "print(\"Total Riparian ET =\", tot_rip, \"m3/day\")"
   ]
  },
  {
   "cell_type": "markdown",
   "metadata": {},
   "source": [
    "## Read in the river leakage"
   ]
  },
  {
   "cell_type": "code",
   "execution_count": 86,
   "metadata": {},
   "outputs": [],
   "source": [
    "#setup arrays to store the values\n",
    "leakage_array = np.zeros((len(ensembles), len(times), 49))\n",
    "\n",
    "# Loop through the ensembles and read the data\n",
    "root_name = 'baseline_' #root of the run names\n",
    "for i in range(len(ensembles)):\n",
    "    name = root_name  #Create the file name from list \n",
    "    for k in range(len(ensembles[i])):\n",
    "        string = str(ensembles[i][k])\n",
    "        name = name + string   \n",
    "\n",
    "    #water budget files\n",
    "    budgobj = flopy.utils.binaryfile.CellBudgetFile(name+'.cbc')   \n",
    "\n",
    "    rowcounter = -1\n",
    "    for t in times:\n",
    "        rowcounter += 1\n",
    "\n",
    "        templeak = budgobj.get_data(text='RIVER LEAKAGE', totim=t)\n",
    "        leakage_array[i, rowcounter,:] = templeak[0].q"
   ]
  },
  {
   "cell_type": "markdown",
   "metadata": {},
   "source": [
    "# Plot all ensembles together"
   ]
  },
  {
   "cell_type": "code",
   "execution_count": 89,
   "metadata": {},
   "outputs": [
    {
     "ename": "IndexError",
     "evalue": "invalid index to scalar variable.",
     "output_type": "error",
     "traceback": [
      "\u001b[1;31m---------------------------------------------------------------------------\u001b[0m",
      "\u001b[1;31mIndexError\u001b[0m                                Traceback (most recent call last)",
      "\u001b[1;32mc:\\Users\\conna\\Documents\\GW_Modeling\\GW_Homework\\Working\\HW14_FinalProject\\Project_Ensemble_anaylsis.ipynb Cell 19'\u001b[0m in \u001b[0;36m<module>\u001b[1;34m\u001b[0m\n\u001b[0;32m      <a href='vscode-notebook-cell:/c%3A/Users/conna/Documents/GW_Modeling/GW_Homework/Working/HW14_FinalProject/Project_Ensemble_anaylsis.ipynb#ch0000012?line=6'>7</a>\u001b[0m \u001b[39mfor\u001b[39;00m j \u001b[39min\u001b[39;00m \u001b[39mrange\u001b[39m(\u001b[39mlen\u001b[39m(ensembles)):\n\u001b[0;32m      <a href='vscode-notebook-cell:/c%3A/Users/conna/Documents/GW_Modeling/GW_Homework/Working/HW14_FinalProject/Project_Ensemble_anaylsis.ipynb#ch0000012?line=7'>8</a>\u001b[0m     label \u001b[39m=\u001b[39m \u001b[39m'\u001b[39m\u001b[39mBaseline\u001b[39m\u001b[39m'\u001b[39m \u001b[39m+\u001b[39m \u001b[39mstr\u001b[39m(j)\n\u001b[1;32m----> <a href='vscode-notebook-cell:/c%3A/Users/conna/Documents/GW_Modeling/GW_Homework/Working/HW14_FinalProject/Project_Ensemble_anaylsis.ipynb#ch0000012?line=8'>9</a>\u001b[0m     plt\u001b[39m.\u001b[39mplot(head_ts[j][:, \u001b[39m0\u001b[39;49m]\u001b[39m/\u001b[39m\u001b[39m360\u001b[39m, head_ts[j][:, \u001b[39m1\u001b[39m], label\u001b[39m=\u001b[39mlabel) \u001b[39m#plot the time series with points at each record\u001b[39;00m\n\u001b[0;32m     <a href='vscode-notebook-cell:/c%3A/Users/conna/Documents/GW_Modeling/GW_Homework/Working/HW14_FinalProject/Project_Ensemble_anaylsis.ipynb#ch0000012?line=9'>10</a>\u001b[0m plt\u001b[39m.\u001b[39mlegend(bbox_to_anchor\u001b[39m=\u001b[39m(\u001b[39m1.2\u001b[39m, \u001b[39m0.5\u001b[39m), loc\u001b[39m=\u001b[39m\u001b[39m'\u001b[39m\u001b[39mcenter\u001b[39m\u001b[39m'\u001b[39m, ncol\u001b[39m=\u001b[39m\u001b[39m1\u001b[39m)\n\u001b[0;32m     <a href='vscode-notebook-cell:/c%3A/Users/conna/Documents/GW_Modeling/GW_Homework/Working/HW14_FinalProject/Project_Ensemble_anaylsis.ipynb#ch0000012?line=10'>11</a>\u001b[0m plt\u001b[39m.\u001b[39msavefig(\u001b[39m\"\u001b[39m\u001b[39mHead_Aqua_ensem.png\u001b[39m\u001b[39m\"\u001b[39m,dpi\u001b[39m=\u001b[39m\u001b[39m600\u001b[39m)\n",
      "\u001b[1;31mIndexError\u001b[0m: invalid index to scalar variable."
     ]
    },
    {
     "data": {
      "image/png": "[encoded data removed]",
      "text/plain": [
       "<Figure size 432x288 with 1 Axes>"
      ]
     },
     "metadata": {
      "needs_background": "light"
     },
     "output_type": "display_data"
    }
   ],
   "source": [
    "#Head at Aquaseca well \n",
    "plt.subplot(1, 1, 1)\n",
    "plt.title(\"Head at Aquaseca Well\",fontweight='bold')\n",
    "plt.xlabel('time (years)',fontweight='bold')\n",
    "plt.ylabel('head (m)',fontweight='bold')\n",
    "# plt.ylim(75.2,75.8)\n",
    "for j in range(len(ensembles)):\n",
    "    label = 'Ensemble ' + str(j)\n",
    "    plt.plot(head_ts[j][:, 0]/360, head_ts[j][:, 1], label=label) #plot the time series with points at each record\n",
    "plt.legend(bbox_to_anchor=(1.2, 0.5), loc='center', ncol=1)\n",
    "plt.savefig(\"Head_Aqua_ensem.png\",dpi=600)\n",
    "plt.show()\n"
   ]
  },
  {
   "cell_type": "code",
   "execution_count": null,
   "metadata": {},
   "outputs": [
    {
     "data": {
      "image/png": "[encoded data removed]",
      "text/plain": [
       "<Figure size 432x288 with 1 Axes>"
      ]
     },
     "metadata": {
      "needs_background": "light"
     },
     "output_type": "display_data"
    }
   ],
   "source": [
    "# Head at observation well\n",
    "plt.subplot(1, 1, 1)\n",
    "plt.title(\"Head at MW1\",fontweight='bold')\n",
    "plt.xlabel('time (days)',fontweight='bold')\n",
    "plt.ylabel('head (m)',fontweight='bold')\n",
    "for j in range(len(ensembles)):\n",
    "    label = 'Ensemble ' + str(j)\n",
    "    plt.plot(mw1_head_ts[j][:, 0]/360, mw1_head_ts[j][:, 1], label=label) #plot the time series with points at each record\n",
    "plt.legend(bbox_to_anchor=(1.2, 0.5), loc='center', ncol=1)\n",
    "plt.savefig(\"Head_M1_ensem.png\",dpi=600)\n",
    "plt.show()"
   ]
  },
  {
   "cell_type": "code",
   "execution_count": null,
   "metadata": {},
   "outputs": [
    {
     "data": {
      "image/png": "[encoded data removed]",
      "text/plain": [
       "<Figure size 432x288 with 1 Axes>"
      ]
     },
     "metadata": {
      "needs_background": "light"
     },
     "output_type": "display_data"
    }
   ],
   "source": [
    "#Ag Well Plot\n",
    "plt.subplot(1, 1, 1)\n",
    "plt.title(\"Head at Ag Well\",fontweight='bold')\n",
    "plt.xlabel('time (days)',fontweight='bold')\n",
    "plt.ylabel('head (m)',fontweight='bold')\n",
    "for j in range(len(ensembles)):\n",
    "    label = 'Ensemble ' + str(j)\n",
    "    plt.plot(ag_head_ts[j][:, 0]/360, ag_head_ts[j][:, 1], label=label) #plot the time series with points at each record\n",
    "\n",
    "plt.legend(bbox_to_anchor=(1.2, 0.5), loc='center', ncol=1)\n",
    "plt.savefig(\"Head_irri_ensem.png\",dpi=600)\n",
    "plt.show()"
   ]
  },
  {
   "cell_type": "markdown",
   "metadata": {},
   "source": [
    "## Alternate approach: Read in variables and store as dictionaries"
   ]
  },
  {
   "cell_type": "code",
   "execution_count": null,
   "metadata": {},
   "outputs": [],
   "source": [
    "#setup some structures to store data in \n",
    "head = np.tile({}, n_ens)\n",
    "leakage = np.tile({}, n_ens)\n",
    "fff = np.tile({}, n_ens)\n",
    "stor = np.tile({}, n_ens)\n",
    "recharge = np.tile({}, n_ens)\n",
    "et = np.tile({}, n_ens)\n",
    "frf = np.tile({}, n_ens)\n",
    "\n",
    "\n",
    "# Loop through the ensembles and read the data\n",
    "root_name = 'ensemble_' #root of the run names\n",
    "for i in range(len(ensembles)):\n",
    "    name = root_name  #Create the file name from list \n",
    "    for k in range(len(ensembles[i])):\n",
    "        string = str(ensembles[i][k])\n",
    "        name = name + string   \n",
    "                   \n",
    "    head[i] = {}\n",
    "    leakage[i] = {}\n",
    "    fff[i] = {}\n",
    "    stor[i] = {}\n",
    "    recharge[i] = {}\n",
    "    et[i] = {}\n",
    "    frf[i] = {}\n",
    "\n",
    "    #read in the head and water budget files\n",
    "    headobj = flopy.utils.binaryfile.HeadFile(name+'.hds')\n",
    "    budgobj = flopy.utils.binaryfile.CellBudgetFile(name+'.cbc')\n",
    "   \n",
    "    #store the complete arrays in dictionaries\n",
    "    for stress_per, time in enumerate(times): #iterate through times at end of each stress period\n",
    "        head[i]['sp%s'%(stress_per)] = headobj.get_data(totim=time) #append heads to head list for ea stress per\n",
    "        leakage[i]['sp%s'%(stress_per)] = budgobj.get_data(text='RIVER LEAKAGE',totim=time) #append right face flow to frf list for ea stress per\n",
    "        fff[i]['sp%s'%(stress_per)] = budgobj.get_data(text='FLOW FRONT FACE',totim=time) #append front face flow to fff list for ea stress per\n",
    "        frf[i]['sp%s'%(stress_per)] = budgobj.get_data(text='flow right face', totim=time)\n",
    "        stor[i]['sp%s'%(stress_per)] = budgobj.get_data(text='STORAGE',totim=time)\n",
    "        recharge[i]['sp%s'%(stress_per)] = budgobj.get_data(text='RECHARGE', totim=time) \n",
    "        et[i]['sp%s'%(stress_per)] = budgobj.get_data(text='ET', totim=time) "
   ]
  }
 ],
 "metadata": {
  "kernelspec": {
   "display_name": "Python 3",
   "language": "python",
   "name": "python3"
  },
  "language_info": {
   "codemirror_mode": {
    "name": "ipython",
    "version": 3
   },
   "file_extension": ".py",
   "mimetype": "text/x-python",
   "name": "python",
   "nbconvert_exporter": "python",
   "pygments_lexer": "ipython3",
   "version": "3.8.12"
  }
 },
 "nbformat": 4,
 "nbformat_minor": 4
}
